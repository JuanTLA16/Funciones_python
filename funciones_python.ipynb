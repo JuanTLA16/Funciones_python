{
  "nbformat": 4,
  "nbformat_minor": 0,
  "metadata": {
    "colab": {
      "provenance": [],
      "authorship_tag": "ABX9TyPO8knBuAICYd1tHcjJ3FCk",
      "include_colab_link": true
    },
    "kernelspec": {
      "name": "python3",
      "display_name": "Python 3"
    },
    "language_info": {
      "name": "python"
    }
  },
  "cells": [
    {
      "cell_type": "markdown",
      "metadata": {
        "id": "view-in-github",
        "colab_type": "text"
      },
      "source": [
        "<a href=\"https://colab.research.google.com/github/JuanTLA16/Funciones_python/blob/main/funciones_python.ipynb\" target=\"_parent\"><img src=\"https://colab.research.google.com/assets/colab-badge.svg\" alt=\"Open In Colab\"/></a>"
      ]
    },
    {
      "cell_type": "code",
      "execution_count": 5,
      "metadata": {
        "colab": {
          "base_uri": "https://localhost:8080/"
        },
        "id": "rEJP7csbTlUi",
        "outputId": "13068365-b3ac-4ae1-8fb7-5fcecc80d620"
      },
      "outputs": [
        {
          "output_type": "stream",
          "name": "stdout",
          "text": [
            "------------------------------------\n",
            "----BUSCAR UN NUMERO EN CONJUNTO----\n",
            "------------------------------------\n",
            "Numero a buscar: 1\n",
            "No lo encontre\n",
            "Eso era...\n"
          ]
        }
      ],
      "source": [
        "print(\"------------------------------------\")\n",
        "print(\"----BUSCAR UN NUMERO EN CONJUNTO----\")\n",
        "print(\"------------------------------------\")\n",
        "\n",
        "b = int(input(\"Numero a buscar: \"))\n",
        "\n",
        "a = [1, 2, 3, 4, 5]\n",
        "r = False\n",
        "\n",
        "for i in a:\n",
        "  if i == 0:\n",
        "    print(\"Lo encontre\")\n",
        "    r = True\n",
        "if r== False:\n",
        "  print(\"No lo encontre\")\n",
        "\n",
        "print(\"Eso era...\")"
      ]
    }
  ]
}